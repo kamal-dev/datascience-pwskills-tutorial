{
 "cells": [
  {
   "cell_type": "markdown",
   "id": "5e257f33",
   "metadata": {},
   "source": [
    "Q1. What is Bayes' theorem?\n",
    "\n",
    "Bayes' theorem is a fundamental concept in probability theory that describes how to update or revise the probability of an event based on new evidence or information.\n",
    "\n",
    "Q2. What is the formula for Bayes' theorem?\n",
    "\n",
    "P(A∣B)= (P(B∣A)×P(A)) / P(B)\n",
    "​\n",
    " \n",
    "Where \n",
    "P(A∣B) is the conditional probability of event A given event B, \n",
    "P(B∣A) is the conditional probability of event B given event A, \n",
    "P(A) is the prior probability of event A, and \n",
    "P(B) is the prior probability of event B.\n",
    "\n",
    "Q3. How is Bayes' theorem used in practice?\n",
    "\n",
    "Bayes' theorem is used in various fields, including statistics, machine learning, and medical diagnosis, for tasks such as classification, inference, and updating beliefs based on evidence.\n",
    "\n",
    "Q4. What is the relationship between Bayes' theorem and conditional probability?\n",
    "\n",
    "Bayes' theorem provides a way to compute conditional probabilities based on prior probabilities and observed evidence.\n",
    "It allows us to update our beliefs about the likelihood of events given new information.\n",
    "\n",
    "Q5. How do you choose which type of Naive Bayes classifier to use for any given problem?\n",
    "\n",
    "The choice depends on the nature of the problem and the assumptions about the distribution of the features.\n",
    "For example, Gaussian Naive Bayes is suitable for continuous features following a Gaussian distribution, while Multinomial Naive Bayes is appropriate for discrete features.\n",
    "\n",
    "Q6. Assignment:\n",
    "You have a dataset with two features, X1 and X2, and two possible classes, A and B. You want to use Naive\n",
    "Bayes to classify a new instance with features X1 = 3 and X2 = 4. The following table shows the frequency of\n",
    "each feature value for each class:\n",
    "Class X1=1 X1=2 X1=3 X2=1 X2=2 X2=3 X2=4\n",
    "A 3 3 4 4 3 3 3\n",
    "B 2 2 1 2 2 2 3\n",
    "Assuming equal prior probabilities for each class, which class would Naive Bayes predict the new instance\n",
    "to belong to?\n",
    "\n",
    "\n",
    "To predict the class of the new instance (X1 = 3, X2 = 4), calculate the posterior probabilities of each class using Bayes' theorem.\n",
    "\n",
    "Since the prior probabilities are equal, compare the posterior probabilities and classify the instance based on the class with the higher probability."
   ]
  },
  {
   "cell_type": "code",
   "execution_count": null,
   "id": "e35cd4e3",
   "metadata": {},
   "outputs": [],
   "source": []
  }
 ],
 "metadata": {
  "kernelspec": {
   "display_name": "Python 3 (ipykernel)",
   "language": "python",
   "name": "python3"
  },
  "language_info": {
   "codemirror_mode": {
    "name": "ipython",
    "version": 3
   },
   "file_extension": ".py",
   "mimetype": "text/x-python",
   "name": "python",
   "nbconvert_exporter": "python",
   "pygments_lexer": "ipython3",
   "version": "3.9.13"
  }
 },
 "nbformat": 4,
 "nbformat_minor": 5
}
