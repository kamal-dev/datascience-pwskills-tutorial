{
 "cells": [
  {
   "cell_type": "markdown",
   "id": "66113d85",
   "metadata": {},
   "source": [
    "Q1. What is anomaly detection and what is its purpose?\n",
    "\n",
    "Anomaly detection, also known as outlier detection, is the process of identifying patterns in data that do not conform to expected behavior.\n",
    "Its purpose is to detect unusual or suspicious instances in the data that may indicate fraudulent activity, errors, or potential threats.\n",
    "\n",
    "Q2. What are the key challenges in anomaly detection?\n",
    "\n",
    "Limited labeled data for training supervised models.\n",
    "Imbalanced datasets where anomalies are rare compared to normal instances.\n",
    "High-dimensional data leading to the curse of dimensionality.\n",
    "Concept drift, where the characteristics of anomalies may change over time.\n",
    "Interpretability and explainability of detected anomalies.\n",
    "\n",
    "Q3. How does unsupervised anomaly detection differ from supervised anomaly detection?\n",
    "\n",
    "- Unsupervised anomaly detection: Identifies anomalies in data without the need for labeled examples of anomalies. It relies on identifying instances that deviate significantly from the majority of the data.\n",
    "- Supervised anomaly detection: Requires labeled examples of both normal and anomalous instances for training. It learns a model to distinguish between normal and anomalous instances based on the labeled data.\n",
    "\n",
    "Q4. What are the main categories of anomaly detection algorithms?\n",
    "\n",
    "Statistical methods: Based on statistical properties of the data, such as mean, variance, or distribution.\n",
    "Machine learning techniques: Utilize algorithms like clustering, classification, or density estimation to identify anomalies.\n",
    "Proximity-based methods: Measure distances or similarities between data points to detect outliers.\n",
    "\n",
    "Q5. What are the main assumptions made by distance-based anomaly detection methods?\n",
    "\n",
    "Assumes that normal instances occur in dense regions of the feature space, while anomalies occur in sparse regions.\n",
    "Typically assumes that anomalies have larger distances or dissimilarities from their nearest neighbors compared to normal instances.\n",
    "\n",
    "Q6. How does the LOF algorithm compute anomaly scores?\n",
    "\n",
    "Local Outlier Factor (LOF) computes the anomaly score for each data point based on its local density compared to its neighbors' densities.\n",
    "The score is calculated as the ratio of the average density of the data point's k-nearest neighbors to its own density.\n",
    "\n",
    "Q7. What are the key parameters of the Isolation Forest algorithm?\n",
    "\n",
    "Number of trees: The number of decision trees to build in the ensemble.\n",
    "Subsample size: The size of the random sample used to build each tree.\n",
    "Maximum depth: The maximum depth allowed for each decision tree.\n",
    "\n",
    "Q8. If a data point has only 2 neighbours of the same class within a radius of 0.5, what is its anomaly score\n",
    "using KNN with K=10?\n",
    "\n",
    "Anomaly score is inversely proportional to the density of neighboring points.\n",
    "With only 2 neighbors within a radius of 0.5 and K=10, the data point is likely to have a high anomaly score indicating it is an outlier.\n",
    "\n",
    "Q9. Using the Isolation Forest algorithm with 100 trees and a dataset of 3000 data points, what is the\n",
    "anomaly score for a data point that has an average path length of 5.0 compared to the average path\n",
    "length of the trees?\n",
    "\n",
    "Anomaly score is computed based on the average path length of a data point across all trees in the forest.\n",
    "A lower average path length compared to the average path length of trees indicates that the data point is likely to be an outlier."
   ]
  }
 ],
 "metadata": {
  "kernelspec": {
   "display_name": "Python 3 (ipykernel)",
   "language": "python",
   "name": "python3"
  },
  "language_info": {
   "codemirror_mode": {
    "name": "ipython",
    "version": 3
   },
   "file_extension": ".py",
   "mimetype": "text/x-python",
   "name": "python",
   "nbconvert_exporter": "python",
   "pygments_lexer": "ipython3",
   "version": "3.9.13"
  }
 },
 "nbformat": 4,
 "nbformat_minor": 5
}
