{
 "cells": [
  {
   "cell_type": "markdown",
   "id": "da76427d",
   "metadata": {},
   "source": [
    "Q1. What is a time series, and what are some common applications of time series analysis?\n",
    "\n",
    "A time series is a sequence of data points collected or recorded at successive time intervals.\n",
    "Common applications include financial forecasting, stock market analysis, weather forecasting, sales forecasting, and demand forecasting.\n",
    "\n",
    "Q2. What are some common time series patterns, and how can they be identified and interpreted?\n",
    "\n",
    "Patterns include trend (long-term increase or decrease), seasonality (repeating patterns at fixed intervals), cyclicality (repeating patterns without fixed intervals), and irregularity (random fluctuations).\n",
    "Trend can be identified by fitting a trend line, seasonality by analyzing seasonal decomposition, and cyclicality by examining long-term patterns.\n",
    "\n",
    "Q3. How can time series data be preprocessed before applying analysis techniques?\n",
    "\n",
    "Removing outliers and missing values, handling seasonality and trends (e.g., detrending, deseasonalizing), and ensuring data is in a suitable format for analysis (e.g., uniform time intervals).\n",
    "\n",
    "Q4. How can time series forecasting be used in business decision-making, and what are some common challenges and limitations?\n",
    "\n",
    "Time series forecasting helps businesses predict future trends, plan inventory and production, allocate resources efficiently, and make informed strategic decisions.\n",
    "Challenges include dealing with uncertainty, unexpected events, and changes in underlying patterns.\n",
    "\n",
    "Q5. What is ARIMA modelling, and how can it be used to forecast time series data?\n",
    "\n",
    "ARIMA (AutoRegressive Integrated Moving Average) is a popular method for modeling and forecasting time series data.\n",
    "It combines autoregressive (AR), differencing (I), and moving average (MA) components to capture different aspects of the data's behavior.\n",
    "\n",
    "Q6. How do Autocorrelation Function (ACF) and Partial Autocorrelation Function (PACF) plots help in identifying the order of ARIMA models?\n",
    "\n",
    "ACF plot shows the correlation between a time series and its lagged values.\n",
    "PACF plot shows the correlation between a time series and its lagged values after removing the effects of shorter lags.\n",
    "Patterns in ACF and PACF plots help identify the order of ARIMA models.\n",
    "\n",
    "Q7. What are the assumptions of ARIMA models, and how can they be tested for in practice?\n",
    "\n",
    "Assumptions include stationarity, independence of residuals, and normally distributed residuals.\n",
    "Stationarity can be tested using statistical tests like the Augmented Dickey-Fuller (ADF) test.\n",
    "\n",
    "Q8. Suppose you have monthly sales data for a retail store for the past three years. Which type of time series model would you recommend for forecasting future sales, and why?\n",
    "\n",
    "I would recommend using an ARIMA model due to its ability to capture trend, seasonality, and autocorrelation patterns present in sales data.\n",
    "\n",
    "Q9. What are some of the limitations of time series analysis? Provide an example of a scenario where the limitations of time series analysis may be particularly relevant.\n",
    "\n",
    "Limitations include the inability to account for sudden changes in data patterns and difficulty in capturing complex relationships.\n",
    "For example, in a scenario where a retail store experiences a sudden shift in consumer behavior due to external factors like a pandemic, traditional time series models may struggle to accurately forecast sales.\n",
    "\n",
    "Q10. Explain the difference between a stationary and non-stationary time series. How does the stationarity of a time series affect the choice of forecasting model?\n",
    "\n",
    "Stationary time series have constant mean, variance, and autocovariance over time, making them easier to model.\n",
    "Non-stationary time series exhibit trends, seasonality, or other patterns that change over time.\n",
    "Stationarity affects the choice of forecasting model because many forecasting methods assume stationarity for accurate predictions. Non-stationary data may require preprocessing techniques like differencing to achieve stationarity before applying forecasting models."
   ]
  }
 ],
 "metadata": {
  "kernelspec": {
   "display_name": "Python 3 (ipykernel)",
   "language": "python",
   "name": "python3"
  },
  "language_info": {
   "codemirror_mode": {
    "name": "ipython",
    "version": 3
   },
   "file_extension": ".py",
   "mimetype": "text/x-python",
   "name": "python",
   "nbconvert_exporter": "python",
   "pygments_lexer": "ipython3",
   "version": "3.9.13"
  }
 },
 "nbformat": 4,
 "nbformat_minor": 5
}
