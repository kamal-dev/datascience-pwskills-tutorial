{
 "cells": [
  {
   "cell_type": "markdown",
   "id": "54a5f7d0",
   "metadata": {},
   "source": [
    "### Q1. What are the characteristics of the tuples? Is tuple immutable?\n",
    "\n",
    "1. Characteristics of Tuples:\n",
    "   - Ordered\n",
    "   - Indexed\n",
    "   - Immutable\n",
    "   - Heterogeneous\n",
    "   - Iterability\n",
    "   - Size Dynamism\n",
    "\n",
    "2. Is Tuple Immutable?\n",
    "   - Yes.\n",
    "   \n",
    "### Q2. What are the two tuple methods in python? Give an example of each method. Give a reason why tuples have only two in-built methods as compared to Lists.\n",
    "\n",
    "In Python, tuples have two built-in methods:\n",
    "\n",
    "1. count():\n",
    "   - Syntax: `tuple.count(value)`\n",
    "   - Example: `my_tuple = (1, 2, 2, 3, 4, 2)`, `count = my_tuple.count(2)`\n",
    "   - This method returns the number of occurrences of a specified value in the tuple.\n",
    "\n",
    "2. index():\n",
    "   - Syntax: `tuple.index(value)`\n",
    "   - Example: `my_tuple = ('a', 'b', 'c', 'd', 'e')`, `index = my_tuple.index('c')`\n",
    "   - This method returns the index of the first occurrence of a specified value in the tuple.\n",
    "\n",
    "Reason for having only two methods in tuples compared to lists:\n",
    "- Tuples are immutable, so methods like append(), remove(), and pop() that modify the tuple are not applicable.\n",
    "- The limited number of methods reflects the design principle of keeping tuples simple and efficient for their intended purpose of representing fixed collections of items."
   ]
  },
  {
   "cell_type": "code",
   "execution_count": 1,
   "id": "aed32cd1",
   "metadata": {
    "scrolled": true
   },
   "outputs": [
    {
     "name": "stdout",
     "output_type": "stream",
     "text": [
      "[1, 2, 3, 4]\n"
     ]
    }
   ],
   "source": [
    "## Q3. Which collection datatypes in python do not allow duplicate items? Write a code using a set to remove duplicates from the given list.\n",
    "## List = [1, 1, 1, 2, 1, 3, 1, 4, 2, 1, 2, 2, 2, 3, 2, 4, 3, 1, 3, 2, 3, 3, 3, 4, 4, 1, 4, 2, 4, 3, 4, 4]\n",
    "\n",
    "# In Python, sets are the collection data type that does not allow duplicate items. Here's a code using a set to remove duplicates from the given list:\n",
    "\n",
    "my_list = [1, 1, 1, 2, 1, 3, 1, 4, 2, 1, 2, 2, 2, 3, 2, 4, 3, 1, 3, 2, 3, 3, 3, 4, 4, 1, 4, 2, 4, 3, 4, 4]\n",
    "\n",
    "unique_items = set(my_list)\n",
    "unique_list = list(unbique_items)\n",
    "\n",
    "print(unique_list)"
   ]
  },
  {
   "cell_type": "markdown",
   "id": "8b434dd9",
   "metadata": {},
   "source": [
    "### Q4. Explain the difference between the union() and update() methods for a set. Give an example of each method.\n",
    "\n",
    "In Python, both the union() and update() methods are used with sets to combine elements from multiple sets. However, they differ in their behavior and how they modify the sets involved.\n",
    "\n",
    "union() Method:\n",
    "\n",
    "Syntax: set.union(*others)\n",
    "Returns a new set containing elements from the original set and all other sets passed as arguments.\n",
    "Does not modify the original set.\n",
    "Duplicate elements are automatically removed in the resulting set.\n",
    "\n",
    "set1 = {1, 2, 3}\n",
    "set2 = {3, 4, 5}\n",
    "union_set = set1.union(set2)\n",
    "print(union_set)  # Output: {1, 2, 3, 4, 5}\n",
    "print(set1)       # Output: {1, 2, 3}\n",
    "\n",
    "update() Method:\n",
    "Syntax: set.update(*others)\n",
    "Modifies the original set by adding elements from all other sets passed as arguments.\n",
    "Does not return a new set; it updates the original set in place.\n",
    "Duplicate elements are automatically removed during the update operation.\n",
    "\n",
    "set1 = {1, 2, 3}\n",
    "set2 = {3, 4, 5}\n",
    "set1.update(set2)\n",
    "print(set1)  # Output: {1, 2, 3, 4, 5}\n",
    "\n",
    "\n",
    "### Q5. What is a dictionary? Give an example. Also, state whether a dictionary is ordered or unordered.\n",
    "\n",
    "A dictionary in Python is a collection data type that stores key-value pairs. Each key is associated with a value, forming a mapping between keys and values. Dictionaries are mutable, meaning they can be modified after creation.\n",
    "\n",
    "Example of a dictionary:\n",
    "my_dict = {\n",
    "    \"name\": \"John\",\n",
    "    \"age\": 30,\n",
    "    \"city\": \"New York\"\n",
    "}\n",
    "print(my_dict[\"name\"])  # Output: John\n",
    "print(my_dict[\"age\"])   # Output: 30\n",
    "print(my_dict[\"city\"])  # Output: New York\n",
    "\n",
    "\n",
    "### Q6. Can we create a nested dictionary? If so, please give an example by creating a simple one-level nested dictionary.\n",
    "\n",
    "Yes, we can create nested dictionaries in Python. A nested dictionary is a dictionary where the values can be dictionaries themselves, allowing for hierarchical data structures.\n",
    "\n",
    "Here's an example of a simple one-level nested dictionary:\n",
    "\n",
    "\n",
    "nested_dict = {\n",
    "    \"person1\": {\n",
    "        \"name\": \"Alice\",\n",
    "        \"age\": 30,\n",
    "        \"city\": \"New York\"\n",
    "    },\n",
    "    \"person2\": {\n",
    "        \"name\": \"Bob\",\n",
    "        \"age\": 25,\n",
    "        \"city\": \"Los Angeles\"\n",
    "    }\n",
    "}\n",
    "\n",
    "print(nested_dict[\"person1\"][\"name\"])  # Output: Alice\n",
    "print(nested_dict[\"person2\"][\"age\"])   # Output: 25"
   ]
  },
  {
   "cell_type": "code",
   "execution_count": 4,
   "id": "1a81deb5",
   "metadata": {},
   "outputs": [
    {
     "name": "stdout",
     "output_type": "stream",
     "text": [
      "{'language': 'Python', 'course': 'Data Science Masters', 'topics': ['Python', 'Machine Learning', 'Deep Learning']}\n"
     ]
    }
   ],
   "source": [
    "### Q7. Using setdefault() method, create key named topics in the given dictionary and also add the value of the key as this list ['Python', 'Machine Learning’, 'Deep Learning']\n",
    "#### dict1 = {'language' : 'Python', 'course': 'Data Science Masters'}\n",
    "\n",
    "\n",
    "dict1 = {'language': 'Python', 'course': 'Data Science Masters'}\n",
    "\n",
    "\n",
    "dict1.setdefault('topics', ['Python', 'Machine Learning', 'Deep Learning'])\n",
    "\n",
    "print(dict1)"
   ]
  },
  {
   "cell_type": "code",
   "execution_count": 5,
   "id": "cf1136d4",
   "metadata": {},
   "outputs": [
    {
     "name": "stdout",
     "output_type": "stream",
     "text": [
      "Keys view: dict_keys(['Sport', 'Teams'])\n",
      "Values view: dict_values(['Cricket', ['India', 'Australia', 'England', 'South Africa', 'Sri Lanka', 'New Zealand']])\n",
      "Items view: dict_items([('Sport', 'Cricket'), ('Teams', ['India', 'Australia', 'England', 'South Africa', 'Sri Lanka', 'New Zealand'])])\n"
     ]
    }
   ],
   "source": [
    "### Q8. What are the three view objects in dictionaries? Use the three in-built methods in python to display these three view objects for the given dictionary.\n",
    "#### dict1 = {'Sport': 'Cricket' , 'Teams': ['India', 'Australia', 'England', 'South Africa', 'Sri Lanka', 'New Zealand']}\n",
    "\n",
    "# In Python, dictionaries provide three view objects:\n",
    "\n",
    "# 1. dict_keys: A view object that displays a dynamic view of the keys in the dictionary.\n",
    "# 2. dict_values: A view object that displays a dynamic view of the values in the dictionary.\n",
    "# 3. dict_items: A view object that displays a dynamic view of the key-value pairs (items) in the dictionary.\n",
    "\n",
    "\n",
    "# Given dictionary\n",
    "dict1 = {'Sport': 'Cricket', 'Teams': ['India', 'Australia', 'England', 'South Africa', 'Sri Lanka', 'New Zealand']}\n",
    "\n",
    "# Displaying dict_keys object\n",
    "keys_view = dict1.keys()\n",
    "print(\"Keys view:\", keys_view)\n",
    "\n",
    "# Displaying dict_values object\n",
    "values_view = dict1.values()\n",
    "print(\"Values view:\", values_view)\n",
    "\n",
    "# Displaying dict_items object\n",
    "items_view = dict1.items()\n",
    "print(\"Items view:\", items_view)\n"
   ]
  }
 ],
 "metadata": {
  "kernelspec": {
   "display_name": "Python 3 (ipykernel)",
   "language": "python",
   "name": "python3"
  },
  "language_info": {
   "codemirror_mode": {
    "name": "ipython",
    "version": 3
   },
   "file_extension": ".py",
   "mimetype": "text/x-python",
   "name": "python",
   "nbconvert_exporter": "python",
   "pygments_lexer": "ipython3",
   "version": "3.9.13"
  }
 },
 "nbformat": 4,
 "nbformat_minor": 5
}
