{
 "cells": [
  {
   "cell_type": "markdown",
   "id": "65992ad0",
   "metadata": {},
   "source": [
    "# Assignment:\n",
    "\n",
    "## Regression - 6"
   ]
  },
  {
   "cell_type": "markdown",
   "id": "424b9dda",
   "metadata": {},
   "source": [
    "### Q1. What are the key steps involved in building an end-to-end web application, from development to deployment on the cloud?\n",
    "\n",
    "The key steps involved in building an end-to-end web application, from development to deployment to the cloud are:\n",
    "1. Designing the UI: Design and prototype the UI.\n",
    "2. Frontend Development: Develop the front end of the website using HTML/ CSS/ JavaScript of any other language of preference.\n",
    "3. Backend Development: Develop the backend of the website with proper use case logic.\n",
    "4. API Development: Develop the API for the UI to interact with the backend.\n",
    "5. Deploy the initial code to the GitHub. \n",
    "6. Initialize the server in the cloud (AWS, GCP or Azure) -- eg: Elastic Beanstalk\n",
    "7. Connect your GitHub with the Cloud using Pipeline"
   ]
  },
  {
   "cell_type": "markdown",
   "id": "76aa930a",
   "metadata": {},
   "source": [
    "### Q2. Explain the difference between traditional web hosting and cloud hosting.\n",
    "\n",
    "- Traditional Web Hosting:\n",
    "1. In traditional web hosting, websites and applications are hosted on physical servers located in data centers.\n",
    "2. Scaling resources in traditional hosting typically involves upgrading to a higher hosting plan or purchasing additional server hardware. This process may require downtime and can be time-consuming.\n",
    "\n",
    "<br>\n",
    "\n",
    "- Cloud Hosting: \n",
    "1. Cloud hosting utilizes virtualized infrastructure where resources such as computing power, storage, and networking are provisioned from a pool of servers and other hardware components.\n",
    "2. Cloud hosting offers on-demand scalability, allowing users to easily scale resources up or down based on traffic fluctuations or resource requirements. There is no downtime in Cloud hosting if properly scaled and managed."
   ]
  },
  {
   "cell_type": "markdown",
   "id": "57cd4ea4",
   "metadata": {},
   "source": [
    "### Q3. How do you choose the right cloud provider for your application deployment, and what factors should you consider?\n",
    "\n",
    "The choice of right cloud provided is dependent on multiple factors such as:\n",
    "1. Cost of the service.\n",
    "2. Availability of the service.\n",
    "3. Reliability and security.\n",
    "4. The dependency and availability of cross platform services (like Pipeline in AWS which can be synced with Git based version control but not svn)"
   ]
  },
  {
   "cell_type": "markdown",
   "id": "fa634607",
   "metadata": {},
   "source": [
    "### Q4. How do you design and build a responsive user interface for your web application, and what are some best practices to follow?\n",
    "\n",
    "To design and build a responsive user interface (UI) for a web application, start by prioritizing mobile-first design principles. Use fluid grid layouts and flexible CSS techniques like media queries to adapt the UI to different screen sizes. Optimize images and media for fast loading times on mobile devices. Employ touch-friendly elements and intuitive navigation patterns for seamless user interaction. Test the UI across various devices and browsers to ensure consistency and functionality. Additionally, follow accessibility standards to make the UI usable for all users. Continuously gather user feedback and iterate on the design to improve usability and responsiveness over time. Overall, prioritize simplicity, performance, and user experience to create a responsive UI that enhances engagement and usability across devices."
   ]
  },
  {
   "cell_type": "markdown",
   "id": "0d80df1a",
   "metadata": {},
   "source": [
    "### Q5. How do you integrate the machine learning model with the user interface for the Algerian Forest Fires project(which we discussed in class), and what APIs or libraries can you use for this purpose?\n",
    "\n",
    "To integrate the ML model with UI, we can make use of picke to create the model and then using flask we can take the input of the data from the user. Post the user data input, we can make use of our pickle file to load the model and test the user data. The result of the test can then be returned to the user from the flask which can even be shown on a web page/"
   ]
  }
 ],
 "metadata": {
  "kernelspec": {
   "display_name": "Python 3 (ipykernel)",
   "language": "python",
   "name": "python3"
  },
  "language_info": {
   "codemirror_mode": {
    "name": "ipython",
    "version": 3
   },
   "file_extension": ".py",
   "mimetype": "text/x-python",
   "name": "python",
   "nbconvert_exporter": "python",
   "pygments_lexer": "ipython3",
   "version": "3.9.13"
  }
 },
 "nbformat": 4,
 "nbformat_minor": 5
}
